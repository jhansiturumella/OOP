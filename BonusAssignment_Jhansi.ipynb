{
 "cells": [
  {
   "cell_type": "markdown",
   "metadata": {},
   "source": [
    "## Bonus Assignment\n",
    "\n",
    "## Author : Jhansi Turumella"
   ]
  },
  {
   "cell_type": "code",
   "execution_count": 21,
   "metadata": {},
   "outputs": [],
   "source": [
    "import numpy as np"
   ]
  },
  {
   "cell_type": "code",
   "execution_count": 26,
   "metadata": {},
   "outputs": [
    {
     "name": "stdout",
     "output_type": "stream",
     "text": [
      "[3 1 2 4 3]\n"
     ]
    }
   ],
   "source": [
    "# A is the array with the below elements and we are converting it to array\n",
    "A = [3,1,2,4,3]\n",
    "A_arr = np.array(A)\n",
    "print(A_arr)\n",
    "#type(A_arr)"
   ]
  },
  {
   "cell_type": "code",
   "execution_count": 20,
   "metadata": {},
   "outputs": [
    {
     "name": "stdout",
     "output_type": "stream",
     "text": [
      "[3, 1, 2, 4, 3]\n"
     ]
    }
   ],
   "source": [
    "print(A[::])"
   ]
  },
  {
   "cell_type": "code",
   "execution_count": 17,
   "metadata": {},
   "outputs": [
    {
     "name": "stdout",
     "output_type": "stream",
     "text": [
      "5\n"
     ]
    }
   ],
   "source": [
    "#Printing the length of array\n",
    "length = len(A_arr)\n",
    "print(length)"
   ]
  },
  {
   "cell_type": "code",
   "execution_count": 18,
   "metadata": {},
   "outputs": [],
   "source": [
    "#Absolute difference of 2 arrays\n",
    "\n",
    "def sub(a,b):\n",
    "    subval = abs(a-b)\n",
    "    return subval\n"
   ]
  },
  {
   "cell_type": "code",
   "execution_count": 19,
   "metadata": {},
   "outputs": [
    {
     "name": "stdout",
     "output_type": "stream",
     "text": [
      "[3] [1 2 4 3]\n",
      "[3 1] [2 4 3]\n",
      "[3 1 2] [4 3]\n",
      "[3 1 2 4] [3]\n",
      "Absolute differences between arrays are [7, 5, 1, 7]\n",
      "Smallest absolute difference in the given array is 1\n"
     ]
    }
   ],
   "source": [
    "#divi is the function which splits the array into 2 parts based on k value(in iteration)\n",
    "def divi(x,k):    #x is the array, k is the incremental iteration from 1,2...9\n",
    "    return (A_arr[:k],A_arr[k:])\n",
    "    \n",
    "    #for j in range(0,length):\n",
    "        #return (A_arr[:k],A_arr[k:])  #Splitting into 2 arrays based on k values\n",
    "diffarr = []                          # To store the absolute diff values in list\n",
    "for i in range(1,length):             #Driver code for splitting\n",
    "    arr1,arr2 = divi(A_arr,i)\n",
    "    print(arr1,arr2) #ignoring this statement as we need not display splitting of array in iteration\n",
    "    res1 = sum(arr1)                   # Sum of array1(arr1)\n",
    "    res2 = sum(arr2)                   # Sum of array2(arr2)\n",
    "    #print(res1, res2)\n",
    "    subres = sub(res1,res2)            # calling absolute diff function to subtract arrays\n",
    "    diffarr.append(subres)             # appending the abs diff values into list to compare\n",
    "print('Absolute differences between arrays are {}'.format(diffarr))             # Printing the list of absdiff in list\n",
    "\n",
    "print('Smallest absolute difference in the given array is {}'.format(min(diffarr)))  #printing the min value in the list which is out task\n",
    "    "
   ]
  },
  {
   "cell_type": "code",
   "execution_count": null,
   "metadata": {},
   "outputs": [],
   "source": [
    "print()"
   ]
  }
 ],
 "metadata": {
  "kernelspec": {
   "display_name": "Python 3",
   "language": "python",
   "name": "python3"
  },
  "language_info": {
   "codemirror_mode": {
    "name": "ipython",
    "version": 3
   },
   "file_extension": ".py",
   "mimetype": "text/x-python",
   "name": "python",
   "nbconvert_exporter": "python",
   "pygments_lexer": "ipython3",
   "version": "3.6.5"
  }
 },
 "nbformat": 4,
 "nbformat_minor": 2
}
