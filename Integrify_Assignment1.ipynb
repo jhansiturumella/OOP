{
 "cells": [
  {
   "cell_type": "code",
   "execution_count": 5,
   "metadata": {},
   "outputs": [
    {
     "name": "stdout",
     "output_type": "stream",
     "text": [
      "Would you like to run the program? Y/N  Y\n",
      "y\n",
      "Enter a whole number between 0 and 10: 3\n",
      "The current value of n is: 3\n",
      "\n",
      "The current value of n is: 4\n",
      "\n",
      "The current value of n is: 5\n",
      "\n",
      "The current value of n is: 6\n",
      "\n",
      "The current value of n is: 7\n",
      "\n",
      "Course Passed.\n",
      "Would you like to run the program? Y/N  n\n",
      "n\n"
     ]
    }
   ],
   "source": [
    "def function(n):\n",
    "\n",
    "    if val_input(n):\n",
    "\n",
    "        if n > 7:\n",
    "            print(\"Course Passed.\")\n",
    "\n",
    "        elif n < 5:\n",
    "            print('The current value of n is: {}\\n'.format(n))\n",
    "            n += 1\n",
    "            return function(n)\n",
    "\n",
    "        else:\n",
    "            print('The current value of n is: {}\\n'.format(n))\n",
    "            n += 1\n",
    "            return function(n)\n",
    "    else:\n",
    "        return function(bad_num(n))\n",
    "\n",
    "\n",
    "def val_input(n):\n",
    "    return isinstance(n, int) and n in range(11)\n",
    "\n",
    "\n",
    "def bad_num(n):\n",
    "\n",
    "    while n not in range(11) or not isinstance(n, int):\n",
    "\n",
    "        n = int(input(\"Please only enter whole numbers between 0 and 10: \"))\n",
    "\n",
    "    return n\n",
    "\n",
    "\n",
    "def run_program():\n",
    "\n",
    "    call_func = input(\"Would you like to run the program? Y/N  \").lower()\n",
    "    print(call_func)\n",
    "\n",
    "    while not (call_func[0] == 'y' or call_func[0] == 'n'):\n",
    "        call_func = input(\"Please select whether you would like to continue. Enter \\\"Y\\\" or \\\"N\\\"  \").lower()\n",
    "\n",
    "    if call_func[0] == 'y':\n",
    "\n",
    "        n = int(input(\"Enter a whole number between 0 and 10: \"))\n",
    "        function(n)\n",
    "        run_program()\n",
    "\n",
    "    else:\n",
    "        return 0\n",
    "\n",
    "\n",
    "run_program()"
   ]
  },
  {
   "cell_type": "code",
   "execution_count": 6,
   "metadata": {},
   "outputs": [
    {
     "name": "stdout",
     "output_type": "stream",
     "text": [
      "Enter any number to print the factorial\n",
      "4\n",
      "Factorial of number is 24\n"
     ]
    }
   ],
   "source": [
    "## Factorial of a number####\n",
    "print(\"Enter any number to print the factorial\")\n",
    "num = int(input())\n",
    "\n",
    "def fact(num):\n",
    "        if(num==0):\n",
    "            return 1\n",
    "        else:\n",
    "            return num* fact(num-1)\n",
    "         \n",
    "print(\"Factorial of number is \" + str(fact(num)))"
   ]
  },
  {
   "cell_type": "code",
   "execution_count": 7,
   "metadata": {},
   "outputs": [
    {
     "name": "stdout",
     "output_type": "stream",
     "text": [
      "4\n"
     ]
    }
   ],
   "source": [
    "#### Absolute of a number ###\n",
    "def count_uniq_abs_vals(a):\n",
    "    a = set(map(lambda x: abs(x), a))\n",
    "    return len(a)\n",
    "\n",
    "\n",
    "a = [1, 2, 3, -1, 4, 3]\n",
    "print(count_uniq_abs_vals(a))"
   ]
  },
  {
   "cell_type": "code",
   "execution_count": 8,
   "metadata": {},
   "outputs": [
    {
     "name": "stdout",
     "output_type": "stream",
     "text": [
      "[5, 1, 10, 50]\n"
     ]
    }
   ],
   "source": [
    "a = [10, 50, 5, 1]\n",
    "b = [10, 2, 5, 1, 8, 20]\n",
    "c = [12, 6]\n",
    "d = [15, 30, -1, 'v', 5]\n",
    "e = [4, 3, 1, 2, 6]\n",
    "\n",
    "def tri_count(l_nums):\n",
    "   if len(l_nums) < 3:\n",
    "       return 0\n",
    "   for i in range(len(l_nums)):\n",
    "       if not isinstance(l_nums[i], int):\n",
    "           print(i)\n",
    "           return 0\n",
    "\n",
    "   l_nums.sort()\n",
    "\n",
    "   p = 0\n",
    "   while p in range(len(l_nums)-2):\n",
    "       q= p+1\n",
    "       r= q+1\n",
    "\n",
    "       if check_triple(l_nums[p], l_nums[q], l_nums[r]):\n",
    "           return 1\n",
    "       p+=2\n",
    "   return 0\n",
    "\n",
    "\n",
    "def check_triple(p, q, r):\n",
    "\n",
    "   return (((p+q) > r) and ((q+r) > p) and ((p+r) > q))\n",
    "\n",
    "#print(tri_count(a))\n",
    "#print(tri_count(b))\n",
    "#print(tri_count(c))\n",
    "#print(tri_count(d))\n",
    "\n",
    "def find_num(a):\n",
    "   input_sum = sum(a)\n",
    "   n = len(a) + 1\n",
    "\n",
    "   return (n*(n+1)/2 - input_sum)\n",
    "\n",
    "\n",
    "#print(find_num(e))\n",
    "\n",
    "def rotate_arr(a, k):\n",
    "\n",
    "   for i in range(k):\n",
    "       a = [a[-1]] + a[:-1]\n",
    "   return a\n",
    "print(rotate_arr(a, 2))"
   ]
  },
  {
   "cell_type": "code",
   "execution_count": 9,
   "metadata": {},
   "outputs": [
    {
     "name": "stdout",
     "output_type": "stream",
     "text": [
      "0\n",
      "1\n",
      "0\n",
      "3\n",
      "0\n"
     ]
    }
   ],
   "source": [
    "print(tri_count(a))\n",
    "print(tri_count(b))\n",
    "print(tri_count(c))\n",
    "print(tri_count(d))"
   ]
  },
  {
   "cell_type": "code",
   "execution_count": 21,
   "metadata": {},
   "outputs": [
    {
     "name": "stdout",
     "output_type": "stream",
     "text": [
      "Enter number of elements : 5\n",
      "1\n",
      "3\n",
      "4\n",
      "5\n",
      "6\n",
      "[1, 3, 4, 5, 6]\n",
      "Missing number is 2.0\n"
     ]
    }
   ],
   "source": [
    "### Missing number in an array\n",
    "def getMissingNo(A): \n",
    "    n = len(A) \n",
    "    total = (n+1)*(n+2)/2\n",
    "    sum_of_A = sum(A) \n",
    "    return total - sum_of_A \n",
    "\n",
    "#Driver code for program\n",
    "lst = [] \n",
    "  \n",
    "# number of elemetns as input \n",
    "n = int(input(\"Enter number of elements : \")) \n",
    "  \n",
    "# iterating till the range \n",
    "for i in range(0, n): \n",
    "    ele = int(input()) \n",
    "  \n",
    "    lst.append(ele) # adding the element \n",
    "      \n",
    "print(lst)\n",
    "\n",
    "#A = [1, 2, 4, 5, 6] \n",
    "#print(type(A))\n",
    "miss = getMissingNo(lst) \n",
    "print(\"Missing number is \" + str(miss))"
   ]
  },
  {
   "cell_type": "markdown",
   "metadata": {},
   "source": [
    "## missing elements###"
   ]
  },
  {
   "cell_type": "code",
   "execution_count": null,
   "metadata": {},
   "outputs": [],
   "source": []
  }
 ],
 "metadata": {
  "kernelspec": {
   "display_name": "Python 3",
   "language": "python",
   "name": "python3"
  },
  "language_info": {
   "codemirror_mode": {
    "name": "ipython",
    "version": 3
   },
   "file_extension": ".py",
   "mimetype": "text/x-python",
   "name": "python",
   "nbconvert_exporter": "python",
   "pygments_lexer": "ipython3",
   "version": "3.6.5"
  }
 },
 "nbformat": 4,
 "nbformat_minor": 2
}
