{
 "cells": [
  {
   "cell_type": "code",
   "execution_count": 115,
   "metadata": {},
   "outputs": [],
   "source": [
    "class VideoApp:\n",
    "    participants_online = 0\n",
    "    action = ['speaking', 'silent']\n",
    "    \n",
    "    def __init__(self, username, company):\n",
    "        \n",
    "        self.username = username\n",
    "        self.company = company\n",
    "        \n",
    "    @classmethod   \n",
    "    def show_participants_online(cls):\n",
    "        \n",
    "        return (print('no of participants online are {}'. format(cls.participants_online)))\n",
    "    \n",
    "    @classmethod   \n",
    "    def go_online(cls):\n",
    "        \n",
    "        cls.participants_online +=1\n",
    "        return cls.participants_online\n",
    "    \n",
    "    @classmethod    \n",
    "    def go_ofline(cls):\n",
    "        cls.participants_online = cls.participants_online-1\n",
    "        return cls.participants_online\n",
    "    \n",
    "    def status(self, action):\n",
    "        if action in VideoApp.action:\n",
    "            return action\n",
    "        else:\n",
    "            raise ValueError(\"The user must in either be speaking or silent\")\n",
    "        \n",
    "        "
   ]
  },
  {
   "cell_type": "code",
   "execution_count": 116,
   "metadata": {},
   "outputs": [],
   "source": [
    "class Message:\n",
    "    \n",
    "    def __init__(self, username, message):\n",
    "        self.username =username\n",
    "        self.message = message\n",
    "               \n",
    "    \n",
    "    def __status(self):\n",
    "        return (print('{} sent the message {}'.format(self.username,self.message)))"
   ]
  },
  {
   "cell_type": "code",
   "execution_count": 117,
   "metadata": {},
   "outputs": [],
   "source": [
    "class ChatApp(VideoApp, Message):\n",
    "    \n",
    "    def __init__(self,name,msg,comp):\n",
    "        \n",
    "        VideoApp.__init__(self, name, comp)\n",
    "        Message.__init__(self,name,msg)  "
   ]
  },
  {
   "cell_type": "code",
   "execution_count": 118,
   "metadata": {},
   "outputs": [
    {
     "name": "stdout",
     "output_type": "stream",
     "text": [
      "1\n",
      "no of participants online are 1\n",
      "None\n",
      "speaking\n",
      "jhansi sent the message welcome\n",
      "None\n"
     ]
    }
   ],
   "source": [
    "chat = ChatApp('jhansi','welcome','integrify')\n",
    "print(chat.go_online())\n",
    "#print(chat.go_ofline())\n",
    "print(chat.show_participants_online())\n",
    "print(chat.status('speaking'))\n",
    "print(chat._Message__status())"
   ]
  },
  {
   "cell_type": "code",
   "execution_count": null,
   "metadata": {},
   "outputs": [],
   "source": []
  },
  {
   "cell_type": "code",
   "execution_count": 87,
   "metadata": {},
   "outputs": [
    {
     "name": "stdout",
     "output_type": "stream",
     "text": [
      "jhansi sent the message welcome\n",
      "None\n"
     ]
    }
   ],
   "source": [
    "print(chat._Message__status())"
   ]
  },
  {
   "cell_type": "code",
   "execution_count": null,
   "metadata": {},
   "outputs": [],
   "source": [
    "class "
   ]
  },
  {
   "cell_type": "code",
   "execution_count": 114,
   "metadata": {},
   "outputs": [
    {
     "ename": "NameError",
     "evalue": "name 'b' is not defined",
     "output_type": "error",
     "traceback": [
      "\u001b[1;31m---------------------------------------------------------------------------\u001b[0m",
      "\u001b[1;31mNameError\u001b[0m                                 Traceback (most recent call last)",
      "\u001b[1;32m<ipython-input-114-f23ea1c9a172>\u001b[0m in \u001b[0;36m<module>\u001b[1;34m()\u001b[0m\n\u001b[1;32m----> 1\u001b[1;33m \u001b[0mb\u001b[0m\u001b[1;33m[\u001b[0m\u001b[1;36m0\u001b[0m\u001b[1;33m:\u001b[0m\u001b[1;36m2\u001b[0m\u001b[1;33m:\u001b[0m\u001b[1;36m3\u001b[0m\u001b[1;33m]\u001b[0m\u001b[1;33m\u001b[0m\u001b[0m\n\u001b[0m",
      "\u001b[1;31mNameError\u001b[0m: name 'b' is not defined"
     ]
    }
   ],
   "source": [
    "b[0:2:3]"
   ]
  },
  {
   "cell_type": "code",
   "execution_count": null,
   "metadata": {},
   "outputs": [],
   "source": []
  },
  {
   "cell_type": "code",
   "execution_count": null,
   "metadata": {},
   "outputs": [],
   "source": []
  },
  {
   "cell_type": "code",
   "execution_count": null,
   "metadata": {},
   "outputs": [],
   "source": []
  }
 ],
 "metadata": {
  "kernelspec": {
   "display_name": "Python 3",
   "language": "python",
   "name": "python3"
  },
  "language_info": {
   "codemirror_mode": {
    "name": "ipython",
    "version": 3
   },
   "file_extension": ".py",
   "mimetype": "text/x-python",
   "name": "python",
   "nbconvert_exporter": "python",
   "pygments_lexer": "ipython3",
   "version": "3.6.5"
  }
 },
 "nbformat": 4,
 "nbformat_minor": 2
}
