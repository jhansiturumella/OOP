{
 "cells": [
  {
   "cell_type": "code",
   "execution_count": 4,
   "metadata": {},
   "outputs": [],
   "source": [
    "from collections import namedtuple\n",
    "#from input_reader import Namespace"
   ]
  },
  {
   "cell_type": "code",
   "execution_count": 10,
   "metadata": {},
   "outputs": [
    {
     "data": {
      "text/plain": [
       "Person(DateofBirth='09-04-1991', eye_color='greeneyes', IQ_score=109)"
      ]
     },
     "execution_count": 10,
     "metadata": {},
     "output_type": "execute_result"
    }
   ],
   "source": [
    "personaldetails = namedtuple('personaldetails', ['DateofBirth'])\n",
    "person_features = namedtuple('person_features', ['eye_color', 'IQ_score'])\n",
    "\n",
    "person_1_details = personaldetails(DateofBirth = '09-04-1991')\n",
    "person_1_features = person_features(eye_color = 'greeneyes', IQ_score = 109)\n",
    "\n",
    "PersonalJoiner.join(person_1_details,person_1_features)"
   ]
  },
  {
   "cell_type": "code",
   "execution_count": 6,
   "metadata": {},
   "outputs": [],
   "source": [
    "\n",
    "class PersonalJoiner:\n",
    "            \n",
    "    \n",
    "    @staticmethod\n",
    "    def join(*args):\n",
    "        d = {}\n",
    "                \n",
    "        for i in args:\n",
    "            d.update(i._asdict())\n",
    "            Person = namedtuple('Person', d) #converting dict to namedtuple\n",
    "            person = Person(**d)  #unpacking the ordered dict like a=1,b=2,c=3 by instance\n",
    "        return person\n",
    "            #nt = namedtuple(d.keys())\n",
    "            #person = nt(**d)\n",
    "            #return person\n",
    "       # \n",
    "    #from types import SimpleNamespace\n",
    "#>>> SimpleNamespace(**d)\n",
    "#namespace(a=1, b=2, c=3, d=4)\n",
    "    \n",
    "        #print(cls.person_1_details._asdict())\n",
    "        #print(cls.person_1_features._asdict())\n",
    "        #print(PersonalJoiner.join(person1_1_details, person1_1_features))\n",
    "    \n",
    "    \n",
    "    \n",
    "    \n",
    "    #print(PersonalJoiner.join(person1_1_details, person1_1_features)) has to result in\n",
    "\n",
    "#Person(date_of_birth='09-04-1991', eye_color='Green', IQ_score=109) .\n",
    "    \n",
    "    #def __repr__(self, )"
   ]
  },
  {
   "cell_type": "code",
   "execution_count": 7,
   "metadata": {},
   "outputs": [
    {
     "name": "stdout",
     "output_type": "stream",
     "text": [
      "Person(DateofBirth='09-04-1991', eye_color='greeneyes', IQ_score=109)\n"
     ]
    }
   ],
   "source": [
    "p = PersonalJoiner()\n",
    "x = p.join(person_1_details,person_1_features)\n",
    "print(x)\n",
    "#print(PersonalJoiner.join(person_1_details,person_1_features))"
   ]
  },
  {
   "cell_type": "code",
   "execution_count": 8,
   "metadata": {},
   "outputs": [],
   "source": [
    "class doubledec:\n",
    "    def __init__(self,func):\n",
    "        self.func = func\n",
    "    def double(self,a):\n",
    "        print('inside init function')\n",
    "        return [a,a]\n",
    "    def __call__(self,*args,**kwargs):\n",
    "        result = self.func(args)\n",
    "        return [result,result]\n",
    "        \n",
    "    "
   ]
  },
  {
   "cell_type": "code",
   "execution_count": 18,
   "metadata": {},
   "outputs": [],
   "source": [
    "def new_decorator(func):\n",
    "\n",
    "    def double(a):\n",
    "        \n",
    "        return list(a,a)\n",
    "    \n",
    "    return double\n",
    "\n",
    "        \n",
    "\n",
    "@new_decorator\n",
    "def myfun(m):\n",
    "    m = 2\n",
    "    \n",
    "     \n",
    "    "
   ]
  },
  {
   "cell_type": "code",
   "execution_count": 70,
   "metadata": {},
   "outputs": [],
   "source": [
    "def iftrue_keys(**kwargs):\n",
    "    if kwargs['role'] == 'admin':\n",
    "        verify(fun)\n",
    "        return True\n",
    "        \n",
    "    else :\n",
    "        a='invalid'\n",
    "        return a\n",
    "        "
   ]
  },
  {
   "cell_type": "code",
   "execution_count": 122,
   "metadata": {},
   "outputs": [],
   "source": [
    "##Task3"
   ]
  },
  {
   "cell_type": "code",
   "execution_count": 23,
   "metadata": {},
   "outputs": [],
   "source": [
    "\n",
    "class doubler:\n",
    "    def __init__(self,func):\n",
    "        self.func = func\n",
    "    def __call__(self, *args):\n",
    "        ret = self.func(*args)\n",
    "        ret_list = [ret,ret]\n",
    "        return ret_list\n",
    "\n",
    "\n",
    "@doubler\n",
    "def mydec(x,y):\n",
    "    return x+y\n",
    "        \n",
    "        \n",
    "    \n",
    "    "
   ]
  },
  {
   "cell_type": "code",
   "execution_count": 24,
   "metadata": {},
   "outputs": [
    {
     "data": {
      "text/plain": [
       "[11, 11]"
      ]
     },
     "execution_count": 24,
     "metadata": {},
     "output_type": "execute_result"
    }
   ],
   "source": [
    "mydec(5,6)"
   ]
  },
  {
   "cell_type": "code",
   "execution_count": 140,
   "metadata": {},
   "outputs": [],
   "source": [
    "from functools import wraps"
   ]
  },
  {
   "cell_type": "code",
   "execution_count": 158,
   "metadata": {},
   "outputs": [],
   "source": [
    "def mydec(fun):\n",
    "    @wraps(fun)\n",
    "    def wrapper(**kwargs):\n",
    "        if kwargs['role'] == 'admin':\n",
    "            return fun(**kwargs)\n",
    "        else:\n",
    "            return 'invalid'       \n",
    "    return wrapper\n",
    "    \n",
    "    "
   ]
  },
  {
   "cell_type": "code",
   "execution_count": 159,
   "metadata": {},
   "outputs": [],
   "source": [
    "@mydec\n",
    "def verify(**kwargs):\n",
    "    return kwargs['role']\n",
    "    \n",
    "    "
   ]
  },
  {
   "cell_type": "code",
   "execution_count": 160,
   "metadata": {},
   "outputs": [
    {
     "data": {
      "text/plain": [
       "'invalid'"
      ]
     },
     "execution_count": 160,
     "metadata": {},
     "output_type": "execute_result"
    }
   ],
   "source": [
    "x = verify(**{'role' : 'junior'})\n",
    "x"
   ]
  },
  {
   "cell_type": "code",
   "execution_count": 161,
   "metadata": {},
   "outputs": [
    {
     "name": "stdout",
     "output_type": "stream",
     "text": [
      "admin\n"
     ]
    }
   ],
   "source": [
    "x = verify(role=\"admin\")\n",
    "print(x)"
   ]
  },
  {
   "cell_type": "code",
   "execution_count": null,
   "metadata": {},
   "outputs": [],
   "source": []
  }
 ],
 "metadata": {
  "kernelspec": {
   "display_name": "Python 3",
   "language": "python",
   "name": "python3"
  },
  "language_info": {
   "codemirror_mode": {
    "name": "ipython",
    "version": 3
   },
   "file_extension": ".py",
   "mimetype": "text/x-python",
   "name": "python",
   "nbconvert_exporter": "python",
   "pygments_lexer": "ipython3",
   "version": "3.6.5"
  },
  "toc": {
   "base_numbering": 1,
   "nav_menu": {},
   "number_sections": true,
   "sideBar": true,
   "skip_h1_title": false,
   "title_cell": "Table of Contents",
   "title_sidebar": "Contents",
   "toc_cell": false,
   "toc_position": {},
   "toc_section_display": true,
   "toc_window_display": false
  },
  "varInspector": {
   "cols": {
    "lenName": 16,
    "lenType": 16,
    "lenVar": 40
   },
   "kernels_config": {
    "python": {
     "delete_cmd_postfix": "",
     "delete_cmd_prefix": "del ",
     "library": "var_list.py",
     "varRefreshCmd": "print(var_dic_list())"
    },
    "r": {
     "delete_cmd_postfix": ") ",
     "delete_cmd_prefix": "rm(",
     "library": "var_list.r",
     "varRefreshCmd": "cat(var_dic_list()) "
    }
   },
   "types_to_exclude": [
    "module",
    "function",
    "builtin_function_or_method",
    "instance",
    "_Feature"
   ],
   "window_display": false
  }
 },
 "nbformat": 4,
 "nbformat_minor": 2
}
